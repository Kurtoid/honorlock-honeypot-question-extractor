{
 "cells": [
  {
   "cell_type": "code",
   "execution_count": 37,
   "metadata": {
    "scrolled": true
   },
   "outputs": [
    {
     "name": "stdout",
     "output_type": "stream",
     "text": [
      "255\n"
     ]
    }
   ],
   "source": [
    "import glob, os\n",
    "from tqdm import tqdm\n",
    "# os.chdir(\"./quiztoolbox.com/\")\n",
    "confirmed_questions = set()\n",
    "all_questions = set()\n",
    "question_files = []\n",
    "page_titles = []\n",
    "sitename = \"coursecopy\"\n",
    "for file in glob.glob(\"./\" + sitename + \".com/**/*.html\", recursive=True):\n",
    "    with open(file, 'r') as file_reader:\n",
    "        try:\n",
    "            file_contents = file_reader.read()\n",
    "#             print(file_contents)\n",
    "            if \"show answer\" in file_contents.lower():\n",
    "#                 print(file)\n",
    "                question_files.append(file)\n",
    "        except UnicodeDecodeError:\n",
    "            pass\n",
    "#             print(\"skipping\", file)\n",
    "# display(question_files)\n",
    "print(len(question_files))"
   ]
  },
  {
   "cell_type": "code",
   "execution_count": 38,
   "metadata": {},
   "outputs": [],
   "source": [
    "class question():\n",
    "    def __init__(self, text, tag=None, site=''):\n",
    "        self.text = text\n",
    "        if tag:\n",
    "            self.tag = tag\n",
    "        else:\n",
    "            self.tag = ''\n",
    "        self.site = site\n",
    "        \n",
    "    def __lt__(self, other):\n",
    "        return self.text < other.text\n",
    "    \n",
    "    def __eq__(self, other):\n",
    "        return self.text == other.text and self.tag == other.tag\n",
    "    \n",
    "    def __hash__(self):\n",
    "        return self.text.__hash__() + (self.tag.__hash__() if self.tag else 0)\n",
    "    \n",
    "    def __repr__(self):\n",
    "        return str({'text': self.text, 'site': self.site, 'tag:': self.tag})"
   ]
  },
  {
   "cell_type": "code",
   "execution_count": 39,
   "metadata": {},
   "outputs": [],
   "source": [
    "from bs4 import BeautifulSoup\n",
    "from bs4 import UnicodeDammit\n",
    "import html.parser as hp\n",
    "from collections import Counter\n",
    "import unidecode"
   ]
  },
  {
   "cell_type": "code",
   "execution_count": 40,
   "metadata": {},
   "outputs": [],
   "source": [
    "def get_duplictes(lst):\n",
    "    # https://stackoverflow.com/questions/52072381/how-to-print-only-the-duplicate-elements-in-python-list\n",
    "    d =  Counter(lst)  # -> Counter({4: 3, 6: 2, 3: 1, 2: 1, 5: 1, 7: 1, 8: 1})\n",
    "    res = [k for k, v in d.items() if v > 1]\n",
    "    return res"
   ]
  },
  {
   "cell_type": "code",
   "execution_count": 41,
   "metadata": {},
   "outputs": [
    {
     "name": "stderr",
     "output_type": "stream",
     "text": [
      "100%|██████████| 255/255 [00:03<00:00, 76.78it/s]\n"
     ]
    }
   ],
   "source": [
    "for file in tqdm(question_files):\n",
    "#     file = question_files[-3]\n",
    "#     print(file)\n",
    "    with open(file, 'r') as file_reader:\n",
    "    #     file_contents = UnicodeDammit(file_reader.read()).unicode_markup\n",
    "        file_contents = hp.unescape(file_reader.read())\n",
    "\n",
    "    parser = BeautifulSoup(file_contents, \"lxml\")\n",
    "    # print(parser)\n",
    "    tag = parser.find(\"meta\",  property=\"og:description\")\n",
    "    if tag:\n",
    "        tag = tag['content']\n",
    "    headings = parser.find_all(\"div\", class_=\"panel-heading\")\n",
    "    questions = []\n",
    "    for h in headings:\n",
    "        questions.append(question(unidecode.unidecode(h.text).strip(), tag, sitename))\n",
    "    #     questions.append(h.get_text())\n",
    "\n",
    "    questions = sorted(questions)\n",
    "    all_questions.update(questions)\n",
    "    found = get_duplictes(questions)\n",
    "#     if len(found)==0:\n",
    "#         print(\"missing questions on \", file)\n",
    "    confirmed_questions.update(found)"
   ]
  },
  {
   "cell_type": "code",
   "execution_count": 42,
   "metadata": {
    "scrolled": true
   },
   "outputs": [
    {
     "name": "stdout",
     "output_type": "stream",
     "text": [
      "139\n"
     ]
    },
    {
     "data": {
      "text/plain": [
       "[{'text': 'The beautiful red H-alpha spectral line of hydrogen is actually', 'site': 'coursecopy', 'tag:': ''},\n",
       " {'text': 'In the kidney proximal tubules, which vitamin binds to a cubulin-megalin membrane receptor to form a complex and be activated?', 'site': 'coursecopy', 'tag:': ''},\n",
       " {'text': 'The image below illustrates a set of deciduous dentition. What is the type and location of the tooth labelled M?      [answer]', 'site': 'coursecopy', 'tag:': ''},\n",
       " {'text': 'Where do you store glycogen (to be broken down as a supply of glucose)?', 'site': 'coursecopy', 'tag:': ''},\n",
       " {'text': 'Shelly Watters owns a chain of fashion boutiques that started in Washington, DC and has expanded into Maryland, Virginia, and West Virginia. Shelly is growing her company via a strategy of ________.', 'site': 'coursecopy', 'tag:': ''},\n",
       " {'text': 'In the experiments constructed by Pasteur to disprove spontaneous generation, swan-necked flasks were used. Why was this shape of flask used in this experiment?', 'site': 'coursecopy', 'tag:': ''},\n",
       " {'text': 'Available: Buspar 7.5 mg tablets The patient has an order for: Buspar 7.5mg every morning, Buspar 2 tablets at noon, and Buspar 15 mg at bedtime. How many mg will the patient receive at noon? Follow the dosage rules and write only the numerical value \"without\" units in the blank provided.', 'site': 'coursecopy', 'tag:': ''},\n",
       " {'text': 'A nurse is caring for a client who has heart failure and a prescription for digoxin 125 mcg PO daily. Available is digoxin PO 0.25 mg/tablet. How many tablets should the nurse administer per dose? Round to the nearest tenth. _____ tablet(s)', 'site': 'coursecopy', 'tag:': ''},\n",
       " {'text': 'Darwin faced which of the following major challenges to this theory?', 'site': 'coursecopy', 'tag:': ''},\n",
       " {'text': 'Which of the following carries iron ion in the bloodstream? Copying/sharing/reproducing in any manner is prohibited. (c) Dr. Shahnaz Kanani', 'site': 'coursecopy', 'tag:': ''},\n",
       " {'text': 'The physiological need to eat is referred to as:', 'site': 'coursecopy', 'tag:': ''},\n",
       " {'text': 'Cancerous tumors contain hypoxic cells which make them:', 'site': 'coursecopy', 'tag:': ''},\n",
       " {'text': 'Which is not a target tissue for parathyroid hormone?', 'site': 'coursecopy', 'tag:': ''},\n",
       " {'text': 'Part 1: What are the three components of a nucleotide? (3pts.)   Part 2: What are the two types of nucleic acids?(2 pts.) List at least one distinction of each? (2pt.)   Part 3 (Extra Credit) : What is the process called when RNA is broken down into proteins? What specific nitrogenous base is only found in RNA (+2)', 'site': 'coursecopy', 'tag:': ''},\n",
       " {'text': 'The brachial veins connect the:', 'site': 'coursecopy', 'tag:': ''},\n",
       " {'text': 'To be effective, local anesthetic must contact the', 'site': 'coursecopy', 'tag:': ''},\n",
       " {'text': 'The human body torso is divided into ____ main / basic cavities Think carefully.', 'site': 'coursecopy', 'tag:': ''},\n",
       " {'text': 'The boiling point of water on the Celsius temperature scale is', 'site': 'coursecopy', 'tag:': ''},\n",
       " {'text': 'To open a file in Drive you...', 'site': 'coursecopy', 'tag:': ''},\n",
       " {'text': 'No system works in isolation. They are all interrelated. Which of these two systems are the most complementary as was discussed in class:', 'site': 'coursecopy', 'tag:': ''},\n",
       " {'text': 'Younger impact craters tend to be larger than older craters.', 'site': 'coursecopy', 'tag:': ''},\n",
       " {'text': 'This British new-wave artist blended a strong reggae influence into their music.', 'site': 'coursecopy', 'tag:': ''},\n",
       " {'text': \"The _____ is a situational test designed to simulate important aspects of a position that assesses an individual's ability to work independently.\", 'site': 'coursecopy', 'tag:': ''},\n",
       " {'text': 'The compound that can combine with OAA to produce citrate as part of the krebs Cycle is used to make each of the following EXCEPT:', 'site': 'coursecopy', 'tag:': ''},\n",
       " {'text': 'Which of these is the most important reason to know the anatomic position:', 'site': 'coursecopy', 'tag:': ''},\n",
       " {'text': 'A researcher who theorizes that Southerners are more violent and then collects data to test this theory is using what type of reasoning?', 'site': 'coursecopy', 'tag:': ''},\n",
       " {'text': 'The cytoplasm of a muscle cell is called?', 'site': 'coursecopy', 'tag:': ''},\n",
       " {'text': 'Cherokee Nation vs. State of Georgia - Domestic Dependent Nations', 'site': 'coursecopy', 'tag:': ''},\n",
       " {'text': 'Learning is a change in behavior that is', 'site': 'coursecopy', 'tag:': ''},\n",
       " {'text': 'Which hormone would not be released when a person is in extreme pain?', 'site': 'coursecopy', 'tag:': ''},\n",
       " {'text': 'A typical Pre AV Fistula protocol would include which test?', 'site': 'coursecopy', 'tag:': ''},\n",
       " {'text': 'The \"Continental System\" was intended to', 'site': 'coursecopy', 'tag:': ''},\n",
       " {'text': 'Diah says, \"I know his name! He\\'s married to that famous actress, and he was in all those action movies! His name begins with an A!...I just cannot remember it!\" Diah is experiencing __________.', 'site': 'coursecopy', 'tag:': ''},\n",
       " {'text': 'Erythropoietin (EPO) release is stimulated by a __________ mechanism.', 'site': 'coursecopy', 'tag:': ''},\n",
       " {'text': 'The daily hassle of experiencing racial discrimination is best described as', 'site': 'coursecopy', 'tag:': ''},\n",
       " {'text': 'Top managers use predictive analytics to define the future of the business, analyzing markets, industries, and economies to determine the strategic direction the company must follow to remain profitable. Tony will set the strategic direction for his firm, which might include introducing new flavors of potato chips or sports drinks as new product lines or schools and hospitals as new market segments.', 'site': 'coursecopy', 'tag:': ''},\n",
       " {'text': 'In a one-trait test cross, the phenotype that disappears in the F1 generation is the', 'site': 'coursecopy', 'tag:': ''},\n",
       " {'text': 'If you assign an alias to one table in a join, you have to', 'site': 'coursecopy', 'tag:': ''},\n",
       " {'text': 'Each of the four Gospels records only one Passover during the ministry of Jesus Christ.', 'site': 'coursecopy', 'tag:': ''},\n",
       " {'text': 'Fill in the blanks with the preterite form of ser or ir.  Esta tarde tu __________ a probarte las camisas.', 'site': 'coursecopy', 'tag:': ''},\n",
       " {'text': 'Which of the following is not a current issue in international sport governance according to Chapter 19?', 'site': 'coursecopy', 'tag:': ''},\n",
       " {'text': 'The process of zymogen release in humans is initiated by [ans1], which causes the release of a signaling protein that binds to [ans2] on cells triggering them to release zymogen.', 'site': 'coursecopy', 'tag:': ''},\n",
       " {'text': 'What are the most common reasons to use the cloud? (Select all apply)', 'site': 'coursecopy', 'tag:': ''},\n",
       " {'text': 'The circumflex artery is a branch of the ___________________.', 'site': 'coursecopy', 'tag:': ''},\n",
       " {'text': 'Property that is exempt from seizure by creditors is known as:', 'site': 'coursecopy', 'tag:': ''},\n",
       " {'text': 'An interview based on questions the interviewer has prepared in advance is most accurately referred to as a(n):', 'site': 'coursecopy', 'tag:': ''},\n",
       " {'text': 'The Barringer/Ireland Business Model Canvas consists of ________ major category(ies) and ________ parts.', 'site': 'coursecopy', 'tag:': ''},\n",
       " {'text': \"Following America's entry into the war, the federal government assumed vast powers to oversee the national economy.\", 'site': 'coursecopy', 'tag:': ''},\n",
       " {'text': 'An order is received for 1.5 Liters of 30% dextrose solution.  70% and 5% solution are available. How many milliliters of the 5% solution would be used to make this preparation?', 'site': 'coursecopy', 'tag:': ''},\n",
       " {'text': 'The term ankylosis is defined as', 'site': 'coursecopy', 'tag:': ''},\n",
       " {'text': '_____ allow off-site users to connect to network resources, such as network file storage, printers, and databases.', 'site': 'coursecopy', 'tag:': ''},\n",
       " {'text': 'The number of deaths due to cancer occurring during a given time period in a specific population refers to', 'site': 'coursecopy', 'tag:': ''},\n",
       " {'text': 'The first principle function of a code of ethics is to provide an enforceable standard of minimally decent conduct for those who fall below that standard. The second principle function is to address every situation that may occur.', 'site': 'coursecopy', 'tag:': ''},\n",
       " {'text': 'Goals and dreams set your destination, but only persistent, purposeful actions will get you there.', 'site': 'coursecopy', 'tag:': ''},\n",
       " {'text': 'chromatid - one of the two DNA duplicates that compose one chromosome (when the chromosome is not separated)', 'site': 'coursecopy', 'tag:': ''},\n",
       " {'text': \"The nurse is providing care to an older adult client with terminal cancer who has opted to discontinue treatment and go home. The client's family, however, wants to continue treatment. The nurse agrees to be present while the client tells the family. Which ethical client principle is the nurse supporting?\", 'site': 'coursecopy', 'tag:': ''},\n",
       " {'text': 'During the 1960s _____ predicted that the computing power of microprocessor chips would double every 18 to 24 months, setting the stage for a digital revolution.', 'site': 'coursecopy', 'tag:': ''},\n",
       " {'text': 'This sculpture has contrapposto. To what does contrapposto refer?', 'site': 'coursecopy', 'tag:': ''},\n",
       " {'text': 'A fundamental motive driving the philosophes to demand ever great freedom of thought and expression was their:', 'site': 'coursecopy', 'tag:': ''},\n",
       " {'text': 'A researcher who uses height as a measure of annual income, likely has a problem with:', 'site': 'coursecopy', 'tag:': ''},\n",
       " {'text': 'A patient should be turned frequently for which of the following reasons?', 'site': 'coursecopy', 'tag:': ''},\n",
       " {'text': \"Use the following map to answer the questions that follow. Canvas will randomly select three of the five numbered station models. For each of these three station models selected by Canvas, indicate the observations requested. Label units! If you do not label units, you will not be able to get full credit. Each station model is worth 4 points. Note: You only need to answer this for the ONE station model per question listed below the map in BLUE. You will get three questions in a row that ask you for information for three different randomly-selected station numbers. If this is the first one you have seen, you will see two more stations in the next two questions. If this is the second one you have seen, you will see one more station in the next question. If this is the third one you have seen, this will be the last one; you do not have to answer this for every station labeled with a number.    Indicate the following observations for Location / Station Model 3: Temperature, Dew Point, Pressure, Wind Direction and Speed, and Cloud Cover Be sure to indicate which answer is which variable in your answer and don't forget to label units!\", 'site': 'coursecopy', 'tag:': ''},\n",
       " {'text': 'Kubler-Ross defines five stages of psychosocial responses to dying and death. Which statement is characteristic of the bargaining stage?', 'site': 'coursecopy', 'tag:': ''},\n",
       " {'text': 'The Laws of the Twelve Tables was important to the plebeians in Rome because', 'site': 'coursecopy', 'tag:': ''},\n",
       " {'text': 'Which of the following is NOT a reason why there are more deaths from tornadoes in theSoutheast?', 'site': 'coursecopy', 'tag:': ''},\n",
       " {'text': 'Please match the following terms', 'site': 'coursecopy', 'tag:': ''},\n",
       " {'text': 'Which of the following acts as a presynaptic poison and does NOT disrupt enzymatic activity that occurs in the synaptic cleft?', 'site': 'coursecopy', 'tag:': ''},\n",
       " {'text': 'Which of the following is the first step in the process of controlling?', 'site': 'coursecopy', 'tag:': ''},\n",
       " {'text': 'Which of these is an enzyme?', 'site': 'coursecopy', 'tag:': ''},\n",
       " {'text': 'As a protein leaves the endoplasmic reticulum by a transport vesicle, it will go to the Golgi apparatus for further modifications and/or sorting.  What side of the Golgi will the transport vesicle reach first?', 'site': 'coursecopy', 'tag:': ''},\n",
       " {'text': 'What type of character is Emilia?', 'site': 'coursecopy', 'tag:': ''},\n",
       " {'text': 'In some facilities, making up abbreviations is an acceptable procedure as long as you add your new abbreviation to a common list.', 'site': 'coursecopy', 'tag:': ''},\n",
       " {'text': 'What is Dn for the following equation in relating Kc to Kp? 2 SO2(g) + O2(g)  =  2 SO3(g)', 'site': 'coursecopy', 'tag:': ''},\n",
       " {'text': 'Which of the following is an example of a genetic bottleneck?', 'site': 'coursecopy', 'tag:': ''},\n",
       " {'text': 'Please Id this genus', 'site': 'coursecopy', 'tag:': ''},\n",
       " {'text': 'II. Vocabulario. Follow the instructions to complete the activities. A. The underlined articles of clothing make the sentences below illogical. In the space provided, write the name of an article of clothing that makes more sense given the context. Be sure to include the appropriate articles in your answers. (6x2=12 points)', 'site': 'coursecopy', 'tag:': ''},\n",
       " {'text': 'Some standard metrical feet contain more than one ___________ syllable.', 'site': 'coursecopy', 'tag:': ''},\n",
       " {'text': 'The \"rediscovery\" of this work and the attribution to Michelangelo was made on what evidence? Name two. (open ended answer)', 'site': 'coursecopy', 'tag:': ''},\n",
       " {'text': 'If you were giving a speech about how to execute basic karate moves, the best kind of visual aid to use would probably be', 'site': 'coursecopy', 'tag:': ''},\n",
       " {'text': 'The post method is the default method that tells the browser to append the form data to the end of the URL specified in the action attribute.', 'site': 'coursecopy', 'tag:': ''},\n",
       " {'text': 'The Calvin Cycle uses _______ and NADPH produced in the light reactions to make sugars.', 'site': 'coursecopy', 'tag:': ''},\n",
       " {'text': 'I have received and reviewed the update syllabus and outline for this course and its lab which is available on the course D2L website. The instructor has reviewed them with me as well. I agree to abide by both syllabus and understand what is expected of me in this course. I understand that changes to the course/lab syllabus may occur and that I will be notified by email of such changes.', 'site': 'coursecopy', 'tag:': ''},\n",
       " {'text': 'Multiple Choice | Item COMFORT Pain SE of Chronic Use of Pain Med     A client seen in the ambulatory care clinic has ascites and slight jaundice.  The nurse assesses the client for a history of chronic use of which of the following medications?', 'site': 'coursecopy', 'tag:': ''},\n",
       " {'text': 'Which type of alcohol motive is most predictive of problematic alcohol use?', 'site': 'coursecopy', 'tag:': ''},\n",
       " {'text': 'Who attacked the USS Reuben James?', 'site': 'coursecopy', 'tag:': ''},\n",
       " {'text': 'Iodine -125 in the form of titanium -encapsulated cylindrical seeds has been used quite extensively within the past decade to give a tumoricidal equivalent dose for:', 'site': 'coursecopy', 'tag:': ''},\n",
       " {'text': 'What type of biomolecule is cholesterol and provide one function of cholesterol.', 'site': 'coursecopy', 'tag:': ''},\n",
       " {'text': 'Water soluble hormones usually work where on the cell?', 'site': 'coursecopy', 'tag:': ''},\n",
       " {'text': 'The function of nucleosomes is to', 'site': 'coursecopy', 'tag:': ''},\n",
       " {'text': 'FIU Online Support Services can be contacted via:', 'site': 'coursecopy', 'tag:': ''},\n",
       " {'text': 'Research & Presentation Strategies When a member of your audience asks you a question, to whom should you address your answer? Why?', 'site': 'coursecopy', 'tag:': ''},\n",
       " {'text': 'A European call option with a strike price of $113.5 and maturity of 7.0 months costs $24.252.The underlying stock price is $126.0. The continuously compounded risk-free rate is 6.75 percent per year. What is the value of a European put option with strike price of $113.5 and maturity of 7.0 months?', 'site': 'coursecopy', 'tag:': ''},\n",
       " {'text': 'In the athletic shoe market, Reebok and Nike practice __________ positioning since both manufacturers vie for the same customers with technologically advanced products.', 'site': 'coursecopy', 'tag:': ''},\n",
       " {'text': 'what is the expected number of employees with less than 1 year of training time and a high defect rate?', 'site': 'coursecopy', 'tag:': ''},\n",
       " {'text': 'The nurse is caring for a patient who has a central venous access device (CVAD). Which action by the nurse is appropriate?', 'site': 'coursecopy', 'tag:': ''},\n",
       " {'text': 'This is a multiple Response Item What would the nurse determine as risk factors for a client with hypovolemia?  (Select all that apply by listing the letter(s )to the answer in alphabetical order using no commas, periods or spaces) A.  Increased pulse B.  Excess laxative use C.  Excess sweating D.  Diabetes insipidus E.  Hypotension', 'site': 'coursecopy', 'tag:': ''},\n",
       " {'text': 'Zhe Ge Shu Jia ,Luo Tian Ming De Fu Mu Ji Hua Dai Ta He Ta Di Di Qu Ou Zhou Lu You . Luo Tian Ming De Di Di Te Bie Xing Fen ,Cong Fu Mu Xuan Bu Liao Zhe Ge Ji Hua Kai Shi ,Jiu Mei Tian Bu Ting Di Wen Luo Tian Ming ,Shu Jia Huan You Duo Chang Shi Jian Cai Dao . Luo Tian Ming Jue De Di Di Hen Fan Ren ,Ta Dui Di Di Shuo :\"Shu Jia Huan You Hao Ji Ge Yue Ni ,Ni Gan Ma Zhe Yao Xing Fen !\" Ke Shi Di Di Shuo :\"Wo Yi Zhi Du Xiang Qu Ou Zhou Wan ,Wo _______(pinyin: )Ming Tian Jiu Shi Shu Jia !\"', 'site': 'coursecopy', 'tag:': ''},\n",
       " {'text': 'Walker Laboratories, Inc. pays a $1.37 dividend every quarter and will maintain this policy forever. What price should you pay for one share of common stock if you want an annual return of 12.5% on your investment?', 'site': 'coursecopy', 'tag:': ''},\n",
       " {'text': 'According to the text, the peaceful end of the Cold War does not ensure a peaceful future. The text suggests that insights from long-cycle theory and other realist theories predict all the following EXCEPT:', 'site': 'coursecopy', 'tag:': ''},\n",
       " {'text': 'The troposphere is normally less stable in', 'site': 'coursecopy', 'tag:': ''},\n",
       " {'text': 'Sensory adaptation is defined as', 'site': 'coursecopy', 'tag:': ''},\n",
       " {'text': \"Choose the sentence that uses commas correctly. (Hint: Remember our 'test' when trying to see if commas are correctly used within a sentence?)\", 'site': 'coursecopy', 'tag:': ''},\n",
       " {'text': 'Classify the molecule below: aa5.png', 'site': 'coursecopy', 'tag:': ''},\n",
       " {'text': 'The motions of a car and a truck along a straight road are represented by the velocity-time graphs in the figure. The two vehicles are initially alongside each other at time t = 0. At time T, what is true about these two vehicles since time t = 0?', 'site': 'coursecopy', 'tag:': ''},\n",
       " {'text': 'The Hadden Matrix is a strategy for _____________ that can be applied to any type of illness or injury.', 'site': 'coursecopy', 'tag:': ''},\n",
       " {'text': 'Following wound irrigation, the nurse plans to apply a wet-to-dry dressing. What is the purpose of this type of dressing?', 'site': 'coursecopy', 'tag:': ''},\n",
       " {'text': 'Which of the following should you do to prepare for a euthanasia case (select all that apply)?', 'site': 'coursecopy', 'tag:': ''},\n",
       " {'text': 'The intertestamental period consists of ____ years of \"silence\" between the Old and New Testaments.', 'site': 'coursecopy', 'tag:': ''},\n",
       " {'text': 'This hemolysin forms a pore in red blood cell membranes and disrupts them.', 'site': 'coursecopy', 'tag:': ''},\n",
       " {'text': 'What should you do before the development of interfaces or the provision of data electronically?', 'site': 'coursecopy', 'tag:': ''},\n",
       " {'text': \"Which type of outline is used to jog a speaker's memory during the presentation of a speech?\", 'site': 'coursecopy', 'tag:': ''},\n",
       " {'text': 'Which of the following pacemaker cell populations has the fastest intrinsic rate of depolarization at about 60-70 times or more per minute?', 'site': 'coursecopy', 'tag:': ''},\n",
       " {'text': 'The abbreviation ADR refers to:', 'site': 'coursecopy', 'tag:': ''},\n",
       " {'text': 'A blood creatinine value is 5.0 mg/dL. Which of the following would most likely be found alongside this blood value?', 'site': 'coursecopy', 'tag:': ''},\n",
       " {'text': 'Exergonic reactions', 'site': 'coursecopy', 'tag:': ''},\n",
       " {'text': 'A Factor VIII deficiency will cause an abnormal Thrombin Time test.', 'site': 'coursecopy', 'tag:': ''},\n",
       " {'text': 'You should make sure you keep the HonorLock shared screen and webcam on throughout the entire exam duration.', 'site': 'coursecopy', 'tag:': ''},\n",
       " {'text': 'Eukaryotic cells are', 'site': 'coursecopy', 'tag:': ''},\n",
       " {'text': 'Cascading Style Sheets (CSS) allow RGB values to be entered as hexadecimal numbers.', 'site': 'coursecopy', 'tag:': ''},\n",
       " {'text': 'How many ATP molecules are made by the process of breaking down glucose with oxygen (aerobic)?', 'site': 'coursecopy', 'tag:': ''},\n",
       " {'text': 'Compared to consumer purchase decisions, organizational purchase decisions:', 'site': 'coursecopy', 'tag:': ''},\n",
       " {'text': 'What defines a congenital disease?', 'site': 'coursecopy', 'tag:': ''},\n",
       " {'text': 'Which of the following statements are true of sp orbitals?', 'site': 'coursecopy', 'tag:': ''},\n",
       " {'text': 'Murders committed by people who are poor are often', 'site': 'coursecopy', 'tag:': ''},\n",
       " {'text': 'Kidneys are part of which organ system?', 'site': 'coursecopy', 'tag:': ''},\n",
       " {'text': 'Secondary protein structure is held together by _________________. (Select any/all that apply)', 'site': 'coursecopy', 'tag:': ''},\n",
       " {'text': 'There are two sellers in the DVD market, Wen and Ahmed. If the market price were $5 per DVD, Wen would be willing to sell 10 DVDs and Ahmed would want to sell 15 DVDs. If the market price were to rise to $7 then:', 'site': 'coursecopy', 'tag:': ''},\n",
       " {'text': 'qvph', 'site': 'coursecopy', 'tag:': ''},\n",
       " {'text': '____ shift keying incorporates four different phase angles, each of which represents 2 bits.', 'site': 'coursecopy', 'tag:': ''},\n",
       " {'text': \"Kamper Company sells two products Big Z and Little Z. Current direct material and direct labor costs are detailed below. Next year, the company wishes to use a plantwide overhead rate with direct labor hours as its allocation base. Next year's overhead is estimated to be $475,000. The direct labor and direct materials costs are estimated to be consistent with the current year. Direct labor costs $20 per hour and the company expects to manufacture 32,000 units of Big Z and 9,000 units of Little Z next year.       Direct Material per Unit Direct Labor Dollars per Unit   Big Z $6 $17   Little Z $12 $8     What are total estimated direct labor hours for this next year?\", 'site': 'coursecopy', 'tag:': ''},\n",
       " {'text': 'My doctor prescribes me a drug that has an accepted medical use for treating anxiety. However, my doctor cautions me about using too much of the medication and continuing to use it for a long period of time because it has a very high likelihood of leading to physical dependence and abuse. What drug schedule is this drug likely to have?', 'site': 'coursecopy', 'tag:': ''},\n",
       " {'text': 'The nurse instructs the patient that any injury to the skin initially puts the patient at risk for what complication?', 'site': 'coursecopy', 'tag:': ''},\n",
       " {'text': 'The __________ voted to reject the Treaty of Versailles that President Wilson had worked so hard on.', 'site': 'coursecopy', 'tag:': ''},\n",
       " {'text': \"fade - a transitional device consisting of a gradual change in the intensity of an image or sound, such as from a normally-lit scene to darkness (fade out, fade-to-black) or vice versa, from complete black to full exposure (fade in), or from silence to sound or vice versa; a 'fade in' is often at the beginning of a sequence, and a 'fade out' at the end of a sequence.\", 'site': 'coursecopy', 'tag:': ''},\n",
       " {'text': 'What tends to motivate us to repeatedly use skills?', 'site': 'coursecopy', 'tag:': ''},\n",
       " {'text': 'Which of these lunar features is the oldest?', 'site': 'coursecopy', 'tag:': ''},\n",
       " {'text': 'Which of these components would NOT be found in chemically defined culture media?', 'site': 'coursecopy', 'tag:': ''},\n",
       " {'text': 'Index values start with 1 so that the initial item in an array has an index value of 1, the second item has an index value of 2, and so on.', 'site': 'coursecopy', 'tag:': ''},\n",
       " {'text': 'The sender in the communication process is totally responsible for successful, effective communication between the sender and receiver.', 'site': 'coursecopy', 'tag:': ''}]"
      ]
     },
     "metadata": {},
     "output_type": "display_data"
    }
   ],
   "source": [
    "print(len(confirmed_questions))\n",
    "# display(sorted(confirmed_questions))\n",
    "display(sorted(confirmed_questions, key=lambda q:q.tag))"
   ]
  },
  {
   "cell_type": "code",
   "execution_count": 43,
   "metadata": {
    "scrolled": true
   },
   "outputs": [],
   "source": [
    "fake_questions = all_questions.difference(confirmed_questions)"
   ]
  },
  {
   "cell_type": "code",
   "execution_count": 44,
   "metadata": {
    "scrolled": true
   },
   "outputs": [
    {
     "name": "stdout",
     "output_type": "stream",
     "text": [
      "2266\n",
      "139\n"
     ]
    }
   ],
   "source": [
    "print(len(all_questions))\n",
    "print(len(confirmed_questions))"
   ]
  },
  {
   "cell_type": "code",
   "execution_count": 45,
   "metadata": {
    "scrolled": true
   },
   "outputs": [
    {
     "name": "stdout",
     "output_type": "stream",
     "text": [
      "{'text': 'You should make sure you keep the HonorLock shared screen and webcam on throughout the entire exam duration.', 'site': 'coursecopy', 'tag:': ''}\n"
     ]
    }
   ],
   "source": [
    "for s in confirmed_questions:\n",
    "    if \"honorlock\".lower() in s.text.lower():\n",
    "        print(s)"
   ]
  },
  {
   "cell_type": "code",
   "execution_count": 2,
   "metadata": {},
   "outputs": [],
   "source": [
    "import pickle"
   ]
  },
  {
   "cell_type": "code",
   "execution_count": 72,
   "metadata": {},
   "outputs": [],
   "source": [
    "file = open(sitename + '.all_q.txt', 'wb')\n",
    "pickle.dump(all_questions, file)\n",
    "file.close()"
   ]
  },
  {
   "cell_type": "code",
   "execution_count": 73,
   "metadata": {},
   "outputs": [],
   "source": [
    "file = open(sitename + '.confirmed_q.txt', 'wb')\n",
    "pickle.dump(confirmed_questions, file)\n",
    "file.close()"
   ]
  },
  {
   "cell_type": "code",
   "execution_count": 74,
   "metadata": {},
   "outputs": [],
   "source": [
    "if os.path.exists(\"all_questions\"):\n",
    "    with open(\"all_questions\",\"rb\") as all_q:\n",
    "        all_q_data = set(pickle.load(all_q))\n",
    "    with open(\"all_questions\",\"wb\") as all_q:\n",
    "        all_q_data.update(confirmed_questions)\n",
    "        pickle.dump(all_q_data, all_q)\n",
    "else:\n",
    "    file = open(\"all_questions\", 'wb')\n",
    "    pickle.dump(confirmed_questions, file)\n",
    "    file.close()"
   ]
  },
  {
   "cell_type": "code",
   "execution_count": 11,
   "metadata": {
    "scrolled": true
   },
   "outputs": [
    {
     "name": "stdout",
     "output_type": "stream",
     "text": [
      "1019\n",
      "Demo Question 1\n",
      "Honorlock's demo contains a ______ in a shield.\n",
      "Product X contribution margin minus direct product fixed expenses is termed?   https://demo.honorlock.com/dmca/903/results\n",
      "Which one of the following statements correctly calls a method named ShowName? https://demo.honorlock.com/dmca/903/results   Search & Destroy\n",
      "While being recorded, please demonstrate your knowledge of removing and adding the Honorlock LTI to a course. First, please make sure you are in the course titled \"HL Training - Sandbox_test\".Step 1: Locate the Honorlock LTI and delete it. Step 2: Add the Honorlock LTI to the course once more.Did you manage to complete this task?\n"
     ]
    }
   ],
   "source": [
    "all_q = open(\"all_questions\",\"rb\")\n",
    "all_q_data = set(pickle.load(all_q))\n",
    "questions_master = sorted(all_q_data)\n",
    "print(len(questions_master))\n",
    "for q in questions_master:\n",
    "#     if(\"study\" in q.site):\n",
    "#         print(q)\n",
    "    if(\"demo\" in q.text.lower()):\n",
    "        print(q.text)\n",
    "all_q.close()"
   ]
  },
  {
   "cell_type": "code",
   "execution_count": 47,
   "metadata": {
    "scrolled": true
   },
   "outputs": [],
   "source": [
    "with open(\"paste_out.txt\", \"w\") as writer:\n",
    "    for c in confirmed_questions:\n",
    "        writer.write(c.text+\"\\n\\n\")"
   ]
  },
  {
   "cell_type": "code",
   "execution_count": null,
   "metadata": {},
   "outputs": [],
   "source": []
  }
 ],
 "metadata": {
  "kernelspec": {
   "display_name": "Python 3",
   "language": "python",
   "name": "python3"
  },
  "language_info": {
   "codemirror_mode": {
    "name": "ipython",
    "version": 3
   },
   "file_extension": ".py",
   "mimetype": "text/x-python",
   "name": "python",
   "nbconvert_exporter": "python",
   "pygments_lexer": "ipython3",
   "version": "3.9.1"
  }
 },
 "nbformat": 4,
 "nbformat_minor": 4
}
