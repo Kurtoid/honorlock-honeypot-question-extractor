{
 "cells": [
  {
   "cell_type": "code",
   "execution_count": 4,
   "id": "large-oasis",
   "metadata": {},
   "outputs": [],
   "source": [
    "import json\n",
    "import requests"
   ]
  },
  {
   "cell_type": "code",
   "execution_count": 21,
   "id": "popular-iceland",
   "metadata": {},
   "outputs": [],
   "source": [
    "all_post_lists = []\n",
    "site_domain = 'quizlookup.com'"
   ]
  },
  {
   "cell_type": "code",
   "execution_count": 22,
   "id": "exempt-longer",
   "metadata": {},
   "outputs": [
    {
     "name": "stdout",
     "output_type": "stream",
     "text": [
      "10\n",
      "20\n",
      "30\n",
      "40\n",
      "50\n",
      "60\n",
      "70\n",
      "80\n",
      "90\n",
      "100\n",
      "110\n",
      "120\n",
      "130\n",
      "140\n",
      "150\n",
      "160\n",
      "170\n",
      "180\n",
      "190\n",
      "200\n",
      "210\n",
      "220\n",
      "230\n",
      "240\n",
      "250\n",
      "260\n",
      "270\n",
      "280\n",
      "290\n",
      "300\n",
      "310\n",
      "320\n",
      "330\n",
      "340\n",
      "350\n",
      "360\n",
      "370\n",
      "380\n",
      "390\n",
      "400\n"
     ]
    }
   ],
   "source": [
    "page = 1\n",
    "while True:\n",
    "    if(page%10==0):\n",
    "        print(page)\n",
    "    response = requests.get(url=\"https://\" + site_domain + \"/wp-json/wp/v2/posts\", params={\"page\":page, \"per_page\": 100})\n",
    "    if(response.status_code!=200):\n",
    "        break\n",
    "    all_post_lists.append(response.json())\n",
    "    page+=1"
   ]
  },
  {
   "cell_type": "code",
   "execution_count": 23,
   "id": "closed-recording",
   "metadata": {},
   "outputs": [],
   "source": [
    "import pickle"
   ]
  },
  {
   "cell_type": "code",
   "execution_count": 24,
   "id": "grand-antibody",
   "metadata": {},
   "outputs": [
    {
     "name": "stdin",
     "output_type": "stream",
     "text": [
      "write data? y\n"
     ]
    },
    {
     "name": "stdout",
     "output_type": "stream",
     "text": [
      "data written\n"
     ]
    }
   ],
   "source": [
    "if(input(\"write data?\")=='y'):\n",
    "  pickle.dump(all_post_lists, open(\"v2/\"+site_domain+\".raw_posts\", 'wb'))\n",
    "  print(\"data written\")"
   ]
  },
  {
   "cell_type": "code",
   "execution_count": 33,
   "id": "heavy-relief",
   "metadata": {},
   "outputs": [
    {
     "name": "stdin",
     "output_type": "stream",
     "text": [
      "read data? y\n"
     ]
    },
    {
     "name": "stdout",
     "output_type": "stream",
     "text": [
      "data read\n"
     ]
    }
   ],
   "source": [
    "if(input(\"read data?\")=='y'):\n",
    "  all_post_lists = pickle.load(open(\"v2/\"+site_domain+\".raw_posts\", 'rb'))\n",
    "  print(\"data read\")\n",
    "  # compatability mode for new multi site setup\n",
    "  all_post_lists = [all_post_lists]"
   ]
  },
  {
   "cell_type": "code",
   "execution_count": 38,
   "id": "precious-table",
   "metadata": {},
   "outputs": [
    {
     "name": "stdout",
     "output_type": "stream",
     "text": [
      "5\n"
     ]
    }
   ],
   "source": [
    "# multi site mode\n",
    "all_post_lists = []\n",
    "for site in [\"buzzfolder.com\", \"examequip.com\", \"gradepack.com\", \"quizlookup.com\", \"wikicram.com\"]:\n",
    "    this_site_file = open(\"v2/\"+site+\".raw_posts\", 'rb')\n",
    "    site_lists = pickle.load(this_site_file)\n",
    "    this_site_file.close()\n",
    "    all_post_lists.append(site_lists)\n",
    "print(len(all_post_lists))"
   ]
  },
  {
   "cell_type": "code",
   "execution_count": 39,
   "id": "polished-pattern",
   "metadata": {},
   "outputs": [
    {
     "data": {
      "text/plain": [
       "[{'blog-post-questions-question': 'Which &ocy;f the f&ocy;ll&ocy;wing foods should be &acy;voided in &acy; p&acy;tient diagnosed with Celiac disease?',\n",
       "  'blog-post-questions-answer': '',\n",
       "  'blog-post-questions-anchor-link': 'which-of-the-following-foods-should-be-avoided-in-a-patient-diagnosed-with-celiac-disease'}]"
      ]
     },
     "execution_count": 39,
     "metadata": {},
     "output_type": "execute_result"
    }
   ],
   "source": [
    "all_post_lists[0][0][0]['questions'][0]"
   ]
  },
  {
   "cell_type": "code",
   "execution_count": 40,
   "id": "nonprofit-gambling",
   "metadata": {},
   "outputs": [],
   "source": [
    "\n",
    "all_questions = set()\n",
    "for site in all_post_lists:\n",
    "    for post_list in site:\n",
    "        for post in post_list:\n",
    "            for question in post['questions'][0]:\n",
    "    #             print(question['blog-post-questions-question'])\n",
    "                all_questions.add(question['blog-post-questions-question'])\n",
    "                if(question['blog-post-questions-answer']!=''):\n",
    "                    print(question['blog-post-questions-answer'])"
   ]
  },
  {
   "cell_type": "code",
   "execution_count": 41,
   "id": "gross-industry",
   "metadata": {},
   "outputs": [
    {
     "data": {
      "text/plain": [
       "589524"
      ]
     },
     "execution_count": 41,
     "metadata": {},
     "output_type": "execute_result"
    }
   ],
   "source": [
    "len(all_questions)"
   ]
  },
  {
   "cell_type": "code",
   "execution_count": 42,
   "id": "honest-conversation",
   "metadata": {},
   "outputs": [],
   "source": [
    "import unidecode\n",
    "import html"
   ]
  },
  {
   "cell_type": "code",
   "execution_count": 43,
   "id": "pending-immune",
   "metadata": {},
   "outputs": [],
   "source": [
    "all_questions_formatted = set()\n",
    "for q in all_questions:\n",
    "    all_questions_formatted.add(unidecode.unidecode(html.unescape(q)).strip())"
   ]
  },
  {
   "cell_type": "code",
   "execution_count": 44,
   "id": "confused-england",
   "metadata": {},
   "outputs": [
    {
     "data": {
      "text/plain": [
       "582080"
      ]
     },
     "execution_count": 44,
     "metadata": {},
     "output_type": "execute_result"
    }
   ],
   "source": [
    "len(all_questions_formatted)"
   ]
  },
  {
   "cell_type": "code",
   "execution_count": null,
   "id": "coordinated-profile",
   "metadata": {},
   "outputs": [],
   "source": [
    "# search for a string\n",
    "for q in all_questions_formatted:\n",
    "    if \"honorlock\" in q.lower():\n",
    "        print(q)"
   ]
  },
  {
   "cell_type": "code",
   "execution_count": 45,
   "id": "round-unemployment",
   "metadata": {},
   "outputs": [],
   "source": [
    "questions_out = open('questions_out.txt', 'w')\n",
    "for q in all_questions_formatted:\n",
    "    questions_out.write(q + '\\n')\n",
    "questions_out.close()"
   ]
  },
  {
   "cell_type": "code",
   "execution_count": null,
   "id": "editorial-buffer",
   "metadata": {},
   "outputs": [],
   "source": [
    "# split into multiple files for the question browser\n",
    "!split -l 20 questions.txt questions/q_ --numeric-suffixes --additional-suffix=.txt --suffix-length=5"
   ]
  }
 ],
 "metadata": {
  "kernelspec": {
   "display_name": "Python 3",
   "language": "python",
   "name": "python3"
  },
  "language_info": {
   "codemirror_mode": {
    "name": "ipython",
    "version": 3
   },
   "file_extension": ".py",
   "mimetype": "text/x-python",
   "name": "python",
   "nbconvert_exporter": "python",
   "pygments_lexer": "ipython3",
   "version": "3.9.1"
  }
 },
 "nbformat": 4,
 "nbformat_minor": 5
}
