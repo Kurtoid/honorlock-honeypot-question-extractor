{
 "cells": [
  {
   "cell_type": "code",
   "execution_count": 1,
   "id": "champion-sherman",
   "metadata": {},
   "outputs": [],
   "source": [
    "import json\n",
    "import requests\n",
    "import pickle\n",
    "import threading"
   ]
  },
  {
   "cell_type": "code",
   "execution_count": 8,
   "id": "bacterial-drawing",
   "metadata": {},
   "outputs": [
    {
     "name": "stdout",
     "output_type": "stream",
     "text": [
      "buzzfolder.com\n",
      "examequip.com\n",
      "gradepack.com\n",
      "quizlookup.com\n",
      "wikicram.com\n",
      "buzzfolder.com 100\n",
      "examequip.com 100\n",
      "quizlookup.com 100\n",
      "wikicram.com 100\n",
      "gradepack.com 100\n",
      "buzzfolder.com 200\n",
      "examequip.com 200\n",
      "quizlookup.com 200\n",
      "wikicram.com 200\n",
      "gradepack.com 200\n",
      "buzzfolder.com 300\n",
      "examequip.com 300\n",
      "quizlookup.com 300\n",
      "wikicram.com 300\n",
      "gradepack.com 300\n",
      "buzzfolder.com 400\n",
      "examequip.com 400\n",
      "quizlookup.com 400\n",
      "buzzfolder.com 500\n",
      "wikicram.com 400\n",
      "gradepack.com 400\n",
      "examequip.com 500\n",
      "quizlookup.com 500\n",
      "buzzfolder.com 600\n",
      "wikicram.com 500\n",
      "examequip.com 600\n",
      "gradepack.com 500\n",
      "quizlookup.com 600\n",
      "buzzfolder.com 700\n",
      "examequip.com 700\n",
      "wikicram.com 600\n",
      "quizlookup.com 700\n",
      "gradepack.com 600\n",
      "buzzfolder.com 800\n",
      "examequip.com 800\n",
      "quizlookup.com 800\n",
      "wikicram.com 700\n",
      "gradepack.com 700\n",
      "buzzfolder.com 900\n",
      "examequip.com 900\n",
      "quizlookup.com 900\n",
      "gradepack.com 800\n",
      "wikicram.com 800\n",
      "buzzfolder.com 1000\n",
      "data written\n",
      "examequip.com 1000\n",
      "data written\n",
      "quizlookup.com 1000\n",
      "data written\n",
      "gradepack.com 900\n",
      "wikicram.com 900\n",
      "gradepack.com 1000\n",
      "wikicram.com 1000\n",
      "data written\n",
      "data written\n"
     ]
    }
   ],
   "source": [
    "domains = [\"buzzfolder.com\", \"examequip.com\", \"gradepack.com\", \"quizlookup.com\", \"wikicram.com\"]\n",
    "def grab_site(site):\n",
    "    all_post_lists = []\n",
    "    page = 1\n",
    "    print(site)\n",
    "    while True:\n",
    "        if(page%100==0):\n",
    "            print(site, page)\n",
    "        response = requests.get(url=\"https://\" + site + \"/wp-json/wp/v2/posts\", params={\"page\":page, \"per_page\": 100})\n",
    "        # the \"page > 200\" part limits it to more recent questions, which are more likely to be \"hot\"\n",
    "        # remove it to get all questions (this may take a _long_ time)\n",
    "        # TODO: prevent fetching posts we already have\n",
    "        if(response.status_code!=200 or page > 1000):\n",
    "            break\n",
    "        all_post_lists.append(response.json())\n",
    "        page+=1\n",
    "    pickle.dump(all_post_lists, open(\"v2/\"+site+\".raw_posts\", 'wb'))\n",
    "    print(\"data written\")\n",
    "threads = []\n",
    "for i in range(len(domains)):\n",
    "    t = threading.Thread(target=grab_site, args=(domains[i], ))\n",
    "    t.start()\n",
    "    threads.append(t)\n",
    "for t in threads:\n",
    "    # Wait for all threads to finish\n",
    "    t.join()"
   ]
  },
  {
   "cell_type": "code",
   "execution_count": 9,
   "id": "intimate-algebra",
   "metadata": {},
   "outputs": [
    {
     "name": "stdout",
     "output_type": "stream",
     "text": [
      "5\n"
     ]
    }
   ],
   "source": [
    "# multi site mode\n",
    "all_post_lists = []\n",
    "for site in domains:\n",
    "    this_site_file = open(\"v2/\"+site+\".raw_posts\", 'rb')\n",
    "    site_lists = pickle.load(this_site_file)\n",
    "    this_site_file.close()\n",
    "    all_post_lists.append(site_lists)\n",
    "print(len(all_post_lists))"
   ]
  },
  {
   "cell_type": "code",
   "execution_count": 10,
   "id": "arctic-forward",
   "metadata": {},
   "outputs": [
    {
     "data": {
      "text/plain": [
       "[{'blog-post-questions-question': 'The l&acy;rger, weight-be&acy;ring b&ocy;ne &ocy;f the l&ocy;wer leg is the',\n",
       "  'blog-post-questions-answer': '',\n",
       "  'blog-post-questions-anchor-link': 'the-larger-weight-bearing-bone-of-the-lower-leg-is-the'}]"
      ]
     },
     "execution_count": 10,
     "metadata": {},
     "output_type": "execute_result"
    }
   ],
   "source": [
    "all_post_lists[0][0][0]['questions'][0]"
   ]
  },
  {
   "cell_type": "code",
   "execution_count": 11,
   "id": "yellow-nashville",
   "metadata": {},
   "outputs": [],
   "source": [
    "all_questions = set()\n",
    "for site in all_post_lists:\n",
    "    for post_list in site:\n",
    "        for post in post_list:\n",
    "            for question in post['questions'][0]:\n",
    "    #             print(question['blog-post-questions-question'])\n",
    "                all_questions.add(question['blog-post-questions-question'])\n",
    "                if(question['blog-post-questions-answer']!=''):\n",
    "                    print(question['blog-post-questions-answer'])"
   ]
  },
  {
   "cell_type": "code",
   "execution_count": 12,
   "id": "protected-intake",
   "metadata": {},
   "outputs": [
    {
     "data": {
      "text/plain": [
       "500648"
      ]
     },
     "execution_count": 12,
     "metadata": {},
     "output_type": "execute_result"
    }
   ],
   "source": [
    "len(all_questions)"
   ]
  },
  {
   "cell_type": "code",
   "execution_count": 13,
   "id": "after-thread",
   "metadata": {},
   "outputs": [],
   "source": [
    "import unidecode\n",
    "import html"
   ]
  },
  {
   "cell_type": "code",
   "execution_count": 14,
   "id": "negative-probability",
   "metadata": {},
   "outputs": [],
   "source": [
    "all_questions_formatted = set()\n",
    "for q in all_questions:\n",
    "    all_questions_formatted.add(unidecode.unidecode(html.unescape(q)).strip())"
   ]
  },
  {
   "cell_type": "code",
   "execution_count": 15,
   "id": "grateful-stupid",
   "metadata": {},
   "outputs": [
    {
     "data": {
      "text/plain": [
       "496048"
      ]
     },
     "execution_count": 15,
     "metadata": {},
     "output_type": "execute_result"
    }
   ],
   "source": [
    "len(all_questions_formatted)"
   ]
  },
  {
   "cell_type": "code",
   "execution_count": null,
   "id": "juvenile-exhibit",
   "metadata": {},
   "outputs": [],
   "source": [
    "# search for a string\n",
    "for q in all_questions_formatted:\n",
    "    if \"honorlock\".lower() in q.lower():\n",
    "        print(q)"
   ]
  },
  {
   "cell_type": "code",
   "execution_count": 19,
   "id": "dramatic-cigarette",
   "metadata": {},
   "outputs": [],
   "source": [
    "questions_out = open('questions_out.txt', 'w')\n",
    "for q in all_questions_formatted:\n",
    "    questions_out.write(q + '\\n')\n",
    "questions_out.close()"
   ]
  },
  {
   "cell_type": "code",
   "execution_count": null,
   "id": "overhead-projector",
   "metadata": {},
   "outputs": [],
   "source": [
    "# split into multiple files for the question browser\n",
    "!split -l 20 questions.txt questions/q_ --numeric-suffixes --additional-suffix=.txt --suffix-length=5"
   ]
  }
 ],
 "metadata": {
  "kernelspec": {
   "display_name": "Python 3",
   "language": "python",
   "name": "python3"
  },
  "language_info": {
   "codemirror_mode": {
    "name": "ipython",
    "version": 3
   },
   "file_extension": ".py",
   "mimetype": "text/x-python",
   "name": "python",
   "nbconvert_exporter": "python",
   "pygments_lexer": "ipython3",
   "version": "3.9.1"
  }
 },
 "nbformat": 4,
 "nbformat_minor": 5
}
