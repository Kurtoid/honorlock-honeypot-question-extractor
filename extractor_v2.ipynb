{
 "cells": [
  {
   "cell_type": "code",
   "execution_count": null,
   "id": "supported-nowhere",
   "metadata": {},
   "outputs": [],
   "source": [
    "import json\n",
    "import requests"
   ]
  },
  {
   "cell_type": "code",
   "execution_count": null,
   "id": "stopped-transcription",
   "metadata": {},
   "outputs": [],
   "source": [
    "all_post_lists = []\n",
    "site_domain = 'buzzfolder.com'"
   ]
  },
  {
   "cell_type": "code",
   "execution_count": null,
   "id": "charged-adolescent",
   "metadata": {},
   "outputs": [],
   "source": [
    "page = 1\n",
    "while True:\n",
    "    if(page%10==0):\n",
    "        print(page)\n",
    "    response = requests.get(url=\"https://\" + site_domain + \"/wp-json/wp/v2/posts\", params={\"page\":page, \"per_page\": 100})\n",
    "    if(response.status_code!=200):\n",
    "        break\n",
    "    all_post_lists.append(response.json())\n",
    "    page+=1"
   ]
  },
  {
   "cell_type": "code",
   "execution_count": null,
   "id": "close-garage",
   "metadata": {},
   "outputs": [],
   "source": [
    "import pickle"
   ]
  },
  {
   "cell_type": "code",
   "execution_count": null,
   "id": "motivated-virtue",
   "metadata": {},
   "outputs": [],
   "source": [
    "if(input(\"write data?\")=='y'):\n",
    "  pickle.dump(all_post_lists, open(\"v2/\"+site_domain+\".raw_posts\", 'wb'))\n",
    "  print(\"data written\")"
   ]
  },
  {
   "cell_type": "code",
   "execution_count": null,
   "id": "latter-discovery",
   "metadata": {},
   "outputs": [],
   "source": [
    "# TODO: read dump\n",
    "if(input(\"read data?\")=='y'):\n",
    "  all_post_lists = pickle.load(open(\"v2/\"+site_domain+\".raw_posts\", 'rb'))\n",
    "  print(\"data read\")"
   ]
  },
  {
   "cell_type": "code",
   "execution_count": null,
   "id": "early-degree",
   "metadata": {},
   "outputs": [],
   "source": [
    "all_post_lists[0][0]['questions'][0]"
   ]
  },
  {
   "cell_type": "code",
   "execution_count": null,
   "id": "dramatic-livestock",
   "metadata": {},
   "outputs": [],
   "source": [
    "all_questions = set()\n",
    "for post_list in all_post_lists:\n",
    "    for post in post_list:\n",
    "        for question in post['questions'][0]:\n",
    "#             print(question['blog-post-questions-question'])\n",
    "            all_questions.add(question['blog-post-questions-question'])\n",
    "            if(question['blog-post-questions-answer']!=''):\n",
    "                print(question['blog-post-questions-answer'])"
   ]
  },
  {
   "cell_type": "code",
   "execution_count": null,
   "id": "experimental-staff",
   "metadata": {},
   "outputs": [],
   "source": [
    "len(all_questions)"
   ]
  },
  {
   "cell_type": "code",
   "execution_count": null,
   "id": "canadian-directive",
   "metadata": {},
   "outputs": [],
   "source": [
    "import unidecode\n",
    "import html"
   ]
  },
  {
   "cell_type": "code",
   "execution_count": 18,
   "id": "identical-count",
   "metadata": {},
   "outputs": [],
   "source": [
    "all_questions_formatted = set()\n",
    "for q in all_questions:\n",
    "    all_questions_formatted.add(unidecode.unidecode(html.unescape(q)).strip())"
   ]
  },
  {
   "cell_type": "code",
   "execution_count": null,
   "id": "taken-cisco",
   "metadata": {},
   "outputs": [],
   "source": [
    "len(all_questions_formatted)"
   ]
  },
  {
   "cell_type": "code",
   "execution_count": null,
   "id": "dedicated-central",
   "metadata": {},
   "outputs": [],
   "source": [
    "# search for a string\n",
    "for q in all_questions_formatted:\n",
    "    if \"honorlock\" in q.lower():\n",
    "        print(q)"
   ]
  },
  {
   "cell_type": "code",
   "execution_count": 19,
   "id": "intended-imaging",
   "metadata": {},
   "outputs": [],
   "source": [
    "questions_out = open('questions_out.txt', 'w')\n",
    "for q in all_questions_formatted:\n",
    "    questions_out.write(q + '\\n')\n",
    "questions_out.close()"
   ]
  },
  {
   "cell_type": "code",
   "execution_count": 16,
   "id": "ethical-import",
   "metadata": {},
   "outputs": [],
   "source": []
  },
  {
   "cell_type": "code",
   "execution_count": null,
   "id": "original-louis",
   "metadata": {},
   "outputs": [],
   "source": []
  }
 ],
 "metadata": {
  "kernelspec": {
   "display_name": "Python 3",
   "language": "python",
   "name": "python3"
  },
  "language_info": {
   "codemirror_mode": {
    "name": "ipython",
    "version": 3
   },
   "file_extension": ".py",
   "mimetype": "text/x-python",
   "name": "python",
   "nbconvert_exporter": "python",
   "pygments_lexer": "ipython3",
   "version": "3.9.1"
  }
 },
 "nbformat": 4,
 "nbformat_minor": 5
}
